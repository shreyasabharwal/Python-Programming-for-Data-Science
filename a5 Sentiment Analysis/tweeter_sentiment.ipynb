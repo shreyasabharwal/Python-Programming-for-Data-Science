{
 "cells": [
  {
   "cell_type": "markdown",
   "metadata": {},
   "source": [
    "# a5 - Tweeter Sentiment\n",
    "\n",
    "In this assignment you will write a program to perform simple [sentiment analysis](https://en.wikipedia.org/wiki/Sentiment_analysis) of Twitter data&mdash;that is, determining the \"attitude\" or \"emotion\" (e.g., how \"positive\", \"negative\", \"joyful\", etc) of tweets made by a particular Twitter user. Sentiment analysis is a fascinating field: researchers have shown that the \"mood\" of Twitter communication [reflects biological rhythms](http://www.nytimes.com/2011/09/30/science/30twitter.html) and can even be used to [predict the stock market](http://arxiv.org/pdf/1010.3003&embedded=true). The particular analysis you'll be performing is inspired by an investigation of [personal vs. organizational tweets](http://varianceexplained.org/r/trump-tweets/) (which has become less amusing over time).\n",
    "\n",
    "You will be implementing a Python program that performs this analysis on **real data** taken directly from a Twitter user's timeline. In the end, your script will produce output similar to the following:\n",
    "\n",
    "```\n",
    "EMOTION       % WORDS  EXAMPLE WORDS                     HASHTAGS\n",
    "positive      6.16%    learn, faculty, happy             #accesstoinfoday, #indigenouspeoplesday, #idealistfair\n",
    "trust         3.08%    school, faculty, happy            #indigenouspeoplesday, #diversity\n",
    "anticipation  2.53%    happy, top, ready                 #indigenouspeoplesday, #informatics, #info340\n",
    "joy           1.76%    happy, peace, deal                #indigenouspeoplesday, #accesstoinfoday\n",
    "surprise      0.99%    deal, award, surprised            #suzzallolibrary, #nobrainer\n",
    "negative      0.88%    fall, rejection, outstanding        \n",
    "sadness       0.55%    fall, rejection, problem            \n",
    "disgust       0.44%    rejection, weird, finally           \n",
    "fear          0.44%    rejection, surprise, problem        \n",
    "anger         0.33%    rejection, disaster, involvement  #mlis\n",
    "```\n",
    "\n",
    "Fill in the below code cells as specified. Note that cells may utilize variables and functions defined in previous cells; we should be able to use the `Kernal > Restart & Clear All` menu item followed by `Cell > Run All` to execute your entire notebook and see the correct output."
   ]
  },
  {
   "cell_type": "markdown",
   "metadata": {},
   "source": [
    "## The Data\n",
    "You'll be working with two different pieces of data for this assignment."
   ]
  },
  {
   "cell_type": "markdown",
   "metadata": {},
   "source": [
    "First, you'll be loading tweet data taken directly from [Twitter's API](https://developer.twitter.com/en/docs/tweets/timelines/api-reference/get-statuses-user_timeline). You can find an example of this tweet data in the **`uw_ischool_sample.py`** file inside the `data/` folder. The below cell will import this data as a variable `SAMPLE_TWEETS` from the provided _module_ file:"
   ]
  },
  {
   "cell_type": "code",
   "execution_count": 1,
   "metadata": {},
   "outputs": [],
   "source": [
    "# import from uw_ischool_sample file in the `data/` package (folder)\n",
    "from data.uw_ischool_sample import SAMPLE_TWEETS"
   ]
  },
  {
   "cell_type": "markdown",
   "metadata": {},
   "source": [
    "The data is represented as one giant **list of dictionaries**: the **list** contains a sequence of **dictionaries**, where each dictionary represents a tweet. Each dictionary contains many different _value_, some of which themselves may be dictionaries.\n",
    "\n",
    "Print out the first three elements from the `SAMPLE_TWEETS` list to see what information can be found. The most relevant value is the `\"text\"` of the tweet.\n",
    "- The Twitter API actually provides a lot more information about each tweet; I've stripped it down to only the most important properties for readability. Each dictionary is a proper subset of the full data you'd get from Twitter.\n",
    "- Because of the source of the sentiment data, your analysis will be biased and only support English-language speakers. Nevertheless, Twitter is an international community so you may encounter non-English characters and words. You'll be working with real-world data and it will be messy!"
   ]
  },
  {
   "cell_type": "code",
   "execution_count": 2,
   "metadata": {},
   "outputs": [
    {
     "name": "stdout",
     "output_type": "stream",
     "text": [
      "[{'created_at': 'Mon Oct 10 18:39:51 +0000 2016', 'retweet_count': 9, 'entities': {'hashtags': [{'indices': [20, 41], 'text': 'IndigenousPeoplesDay'}]}, 'user': {'screen_name': 'UW_iSchool'}, 'text': 'RT @UWAPress: Happy #IndigenousPeoplesDay https://t.co/YmU9e9lj7v'}, {'created_at': 'Mon Oct 10 18:00:00 +0000 2016', 'retweet_count': 0, 'entities': {'hashtags': [{'indices': [16, 29], 'text': 'IdealistFair'}]}, 'user': {'screen_name': 'UW_iSchool'}, 'text': \"We'll be at the #IdealistFair this evening on the Seattle U. campus. Come and learn about our graduate programs: https://t.co/et1HrQshmr\"}, {'created_at': 'Mon Oct 10 15:10:36 +0000 2016', 'retweet_count': 1, 'entities': {'hashtags': []}, 'user': {'screen_name': 'UW_iSchool'}, 'text': 'RT @iYouthUW: iYouth Tips for 1st\\xa0Years https://t.co/K4SCIEhJ8k https://t.co/p4lbC6Jb5o'}]\n"
     ]
    }
   ],
   "source": [
    "print(SAMPLE_TWEETS[0:3])"
   ]
  },
  {
   "cell_type": "markdown",
   "metadata": {},
   "source": [
    "The second piece of data you'll be working with is a set of **word-sentiments**&mdash;a list of English-language words and what emotions (e.g., \"joy\", \"anger\") [are associated with them](http://saifmohammad.com/WebPages/NRC-Emotion-Lexicon.htm).\n",
    "\n",
    "- The [`nltk`](https://github.com/nltk/nltk/wiki/Sentiment-Analysis) library you used in the last assignment does support sentiment analysis. However, for practice and extendability you'll be doing a more \"manual\" analysis using the provided data file for this assignment.\n",
    "\n",
    "`import` the word sentiments as a variable **`SENTIMENTS`** from the **`data.sentiments_nrc`** module. You should also import the `EMOTIONS` variable provided by the same module: this is a _list_ of possible emotions. You can inspect the variables (e.g., print them out) to confirm that you have imported them."
   ]
  },
  {
   "cell_type": "code",
   "execution_count": 3,
   "metadata": {},
   "outputs": [
    {
     "name": "stdout",
     "output_type": "stream",
     "text": [
      "{'trust': 1}\n",
      "['positive', 'negative', 'anger']\n"
     ]
    }
   ],
   "source": [
    "from data.sentiments_nrc import SENTIMENTS\n",
    "from data.sentiments_nrc import EMOTIONS\n",
    "print(SENTIMENTS['abacus'])\n",
    "print(EMOTIONS[0:3])"
   ]
  },
  {
   "cell_type": "markdown",
   "metadata": {},
   "source": [
    "## Text Sentiment\n",
    "All of the sentiment analysis is based on the individual _words_ in the text. Thus you will need to will determine which words in a tweet have which sentiments.\n",
    "\n",
    "- Note that the assignment explicitly does _not_ tell you what to name functions, what arguments they should take or values they should return: your task is to determine appropriate functions and arguments from the (guided) requirements! Use multiple functions for clarity, give them all informative names, and include a **doc string** to explain what it does."
   ]
  },
  {
   "cell_type": "markdown",
   "metadata": {},
   "source": [
    "Define a function that take a tweet's text (a string) and split it up into a list of individual words.\n",
    "\n",
    "- To support future assignments, you should **not** use the `nltk` library to tokenize words. Instead, your analysis should split up the text using the [regular expression](https://www.regular-expressions.info/) **`\"\\W+\"`** as a separator to \"split up\" the words by (rather than just a blank space). You can do this by using the [re.split()](https://docs.python.org/3/library/re.html#re.split) function (from the `re` module). This separator will cause your spitting to exclude punctuation and provide a reasonable (but not perfect!) list of words to consider. \n",
    "\n",
    "- All of the words in the sentiment dictionary are _lower case_, so you'll need to **map** your resulting words to be lower case. You will also need to **filter** out any words that have 1 letter or fewer. Use a **list comprehension** to do this.\n",
    "\n",
    "The string `\"Amazingly, I prefer a #rainy day to #sunshine.\"` should produce a list with 6 lower-case words in it."
   ]
  },
  {
   "cell_type": "code",
   "execution_count": 4,
   "metadata": {},
   "outputs": [
    {
     "name": "stdout",
     "output_type": "stream",
     "text": [
      "['amazingly', 'prefer', 'rainy', 'day', 'to', 'sunshine']\n"
     ]
    }
   ],
   "source": [
    "import re\n",
    "def split_into_words(tweet):\n",
    "    '''\n",
    "    takes a string and returns a list of words in lowercase, excluding words having length less than 2\n",
    "    '''\n",
    "    list_words = re.split(r'\\W+', tweet)\n",
    "    list_words = [word.lower() for word in list_words if len(word)>1]\n",
    "    return list_words\n",
    "\n",
    "tweet_word_list = split_into_words(\"Amazingly, I prefer a #rainy day to #sunshine.\")\n",
    "print(tweet_word_list)"
   ]
  },
  {
   "cell_type": "markdown",
   "metadata": {},
   "source": [
    "Define a function that **filters** a list of the words to get only those words that contain a specific emotion. Use a **list comprehension** to do this.\n",
    "- You can determine whether a word has a particular emotion by looking it up in the imported `SENTIMENTS` variable. Use the word as the \"key\" to find the dictionary of emotions for that word, and then use the emotion as the key to _that_ dictionary to determine if the word has it. \n",
    "    \n",
    "    Do not use the `in` operator or a loop to search the list of keys one by one. Instead, use bracket notation or the `get()` method to \"look up\" a key directly (this is more efficient and is why the emotions are nested dictionaries in the first place).\n",
    "    \n",
    "For testing, the `\"positive\"` words extracted from `\"Amazingly, I prefer a #rainy day to #sunshine.\"` are `[\"amazingly\", \"prefer\", \"sunshine\"]`."
   ]
  },
  {
   "cell_type": "code",
   "execution_count": 5,
   "metadata": {},
   "outputs": [
    {
     "data": {
      "text/plain": [
       "['amazingly', 'prefer', 'sunshine']"
      ]
     },
     "execution_count": 5,
     "metadata": {},
     "output_type": "execute_result"
    }
   ],
   "source": [
    "def filter_words_for_emotion(word_list, emotion):\n",
    "    '''\n",
    "    takes in a list of words and a particular emotion and returns only the words that convey the emotion\n",
    "    '''\n",
    "    filtered_word_list = [word for word in word_list if SENTIMENTS.get(word,0) and SENTIMENTS[word].get(emotion,0)]\n",
    "    return filtered_word_list\n",
    "\n",
    "tweet_word_list = split_into_words(\"Amazingly, I prefer a #rainy day to #sunshine.\")\n",
    "filter_words_for_emotion(tweet_word_list, 'positive')"
   ]
  },
  {
   "cell_type": "markdown",
   "metadata": {},
   "source": [
    "Define a function that determines which words from a list have _each_ emotion (i.e., the \"emotional\" words). For example, the words extracted from `\"Amazingly, I prefer a #rainy day to #sunshine.\"` should produce a dictionary that looks like:\n",
    "\n",
    "```\n",
    "{\n",
    " 'anger': [],\n",
    " 'anticipation': [],\n",
    " 'disgust': [],\n",
    " 'fear': [],\n",
    " 'joy': ['amazingly', 'sunshine'],\n",
    " 'negative': [],\n",
    " 'positive': ['amazingly', 'prefer', 'sunshine'],\n",
    " 'sadness': ['rainy'],\n",
    " 'surprise': ['amazingly'],\n",
    " 'trust': ['prefer']\n",
    "}\n",
    "```\n",
    "    \n",
    "(Note the empty lists for emotions that have no matching words).\n",
    "    \n",
    "- You can use the imported `EMOTIONS` variable to have a list of emotions to iterate through.\n",
    "- Use the function you defined in the previous step to help you out!\n",
    "- Using a [dictionary comprehension](https://www.smallsurething.com/list-dict-and-set-comprehensions-by-example/) is a nice way to do this, but is not required."
   ]
  },
  {
   "cell_type": "code",
   "execution_count": 6,
   "metadata": {},
   "outputs": [
    {
     "data": {
      "text/plain": [
       "{'anger': [],\n",
       " 'anticipation': [],\n",
       " 'disgust': [],\n",
       " 'fear': [],\n",
       " 'joy': ['amazingly', 'sunshine'],\n",
       " 'negative': [],\n",
       " 'positive': ['amazingly', 'prefer', 'sunshine'],\n",
       " 'sadness': ['rainy'],\n",
       " 'surprise': ['amazingly'],\n",
       " 'trust': ['prefer']}"
      ]
     },
     "execution_count": 6,
     "metadata": {},
     "output_type": "execute_result"
    }
   ],
   "source": [
    "def categorize_by_emotions(word_list):\n",
    "    '''\n",
    "    takes in a list of words, categorizes words by emotions and returns a dictionary with emotions as keys and list of words\n",
    "    conveying that emotion as values \n",
    "    '''\n",
    "    dict_words_categorized = {emotion:filter_words_for_emotion(word_list, emotion) for emotion in EMOTIONS}\n",
    "    return dict_words_categorized\n",
    "\n",
    "tweet_word_list = split_into_words(\"Amazingly, I prefer a #rainy day to #sunshine.\")\n",
    "categorize_by_emotions(tweet_word_list)"
   ]
  },
  {
   "cell_type": "markdown",
   "metadata": {},
   "source": [
    "Define a function that gets a list of the \"most common\" words in a list: that is a new list containing each word in the original list, in descending order by how many times that word appears in the orignal list.\n",
    "\n",
    "- You can determine the frequency (number of occurrences) of a word with a similar process to what you did with digits in the last assignment.\n",
    "- You should use the `sorted()` function to [sort](https://wiki.python.org/moin/HowTo/Sorting) the individual words. This function take a **`key`** argument which should be passed a [_callback function_](https://wiki.python.org/moin/HowTo/Sorting#Key_Functions) that can return a \"transformed\" value that you wish to sort by (e.g., which element in a tuple). An anonymous lambda function works well for this.\n",
    "\n",
    "You can test this function with any list of \"words\" with repeated entries: `['a','b','c','c','c','a']` for example.\n"
   ]
  },
  {
   "cell_type": "code",
   "execution_count": 7,
   "metadata": {},
   "outputs": [
    {
     "data": {
      "text/plain": [
       "['c', 'a', 'b']"
      ]
     },
     "execution_count": 7,
     "metadata": {},
     "output_type": "execute_result"
    }
   ],
   "source": [
    "def sort_words_by_frequency(word_list):\n",
    "    '''\n",
    "    takes in a list of words and returns a list sorted in descending order based on the number of occurences of the word\n",
    "    in the list\n",
    "    ''' \n",
    "    \n",
    "    dict_word_count = {word:word_list.count(word) for word in word_list}\n",
    "    sorted_list = sorted(dict_word_count, key=lambda x: dict_word_count[x], reverse = True)\n",
    "    return sorted_list\n",
    "\n",
    "sort_words_by_frequency(['a','b','c','c','c','a'])"
   ]
  },
  {
   "cell_type": "markdown",
   "metadata": {},
   "source": [
    "## Tweet Statistics\n",
    "Once you are able to determine the sentiment of an individual string of text (e.g., a single tweet's content), you can analyze an entire set of tweets from the user's timeline."
   ]
  },
  {
   "cell_type": "markdown",
   "metadata": {},
   "source": [
    "Define a function (e.g., `analyze_tweets()`) that takes as an argument a **list** of tweet data (with the same structure as the imported `SAMPLE_TWEETS` variable), and _returns_ the data of interest to display in a table like the one at the very top of the notebook. In particular, you'll need to produce the following information **for each emotion**:\n",
    "\n",
    "1. The percentage of words _across all tweets_ that have that emotion\n",
    "2. The most common words _across all tweets_ that have that emotion (in order!)\n",
    "3. The most common **hashtags** _across all tweets_ associated with that emotion (see below)\n",
    "\n",
    "(Think carefully: should this data be stored in a _list_ or a _dictionary_?)\n",
    "\n",
    "Some tips for this task:\n",
    "\n",
    "- You can optionally create some \"helper\" functions to break up this task even further; define those functions in the same notebook cell or add additional cells.\n",
    "\n",
    "- You'll need to use your previous functions to get the _list of words_ and _dictionary of emotional words_ for each tweet. I recommend you assign the results of these methods as **new keys** of the respective tweet dictionary (so your tweet would gain a `words` key, for example).\n",
    "\n",
    "- In order to get the percentage of emotional words, divide the number of words that have that emotion by the total number of words _across all the tweets_. Counting how many total words are in the tweet set is a **reducing** operation: you should use the `reduce()` function for this.\n",
    "\n",
    "- For each emotion, you'll need to get a list of the words _across all the tweets_ that have that emotion (in order to determine how many there are for the percentage, as well as which are most common). This is another **reducing** operation; you should use the `reduce()` function to _add up_ all of these words (alternatively, the `sum()` function can be used here).\n",
    "\n",
    "- For emotion emotion, you will also need to calculate the most common [hashtags](https://en.wikipedia.org/wiki/Hashtag) for tweets that have _at least one word with that emotion_.\n",
    "\n",
    "    The Twitter data for each tweet includes a _list_ containing the hashtags found in that tweet&mdash;you should **NOT** try and search the tweet text for `#` symbols. These hashtags can be found in the `['entities']['hashtags'][i]['text']` element of each tweet&mdash;that is, the `'text'` key from _each_ element in the _list_ of the `'hashtags'` key in the `'entities'` dictionary of the tweet. See the `uw_school.json` example file to see this structure more clearly.\n",
    "\n",
    "    (You might use a _list comprehension_ to \"flatten\" this complex nesting structure into just a list of hashtag words).\n",
    "\n",
    "    Since hashtags are just words, you can use your function for finding the most common words to find the most common hashtags!\n",
    "\n",
    "You can test your function by passing in the `SAMPLE_TWEETS` variable as an argument and checking if your returned data has the same numbers as in the table at the top of the page. Note that only the first 3 most common words are listed (and may be in a different order in the case of ties)."
   ]
  },
  {
   "cell_type": "code",
   "execution_count": 8,
   "metadata": {},
   "outputs": [],
   "source": [
    "from functools import reduce\n",
    "\n",
    "def analyze_tweets(list_tweet_data):  \n",
    "    '''\n",
    "    takes a list of tweets and returns a dictionary with emotions as keys and a dictionary with percentage of words with the\n",
    "    emotion across all tweets, 3 most common words across all tweets that have the emotion and most common hashtags associated\n",
    "    with the emotion.\n",
    "    '''\n",
    "    dict_emotions = {}\n",
    "    #creating new keys of the tweet dictionary - words and words_by_emotions\n",
    "    for single_tweet in list_tweet_data:\n",
    "        single_tweet['words'] = split_into_words(single_tweet['text'])\n",
    "        single_tweet['words_by_emotions'] = categorize_by_emotions(single_tweet['words'])\n",
    "    \n",
    "    # calculating total number of words across all tweets\n",
    "    total_num_of_words = reduce(lambda count,x:count+len(x['words']),list_tweet_data,0)\n",
    "    \n",
    "    # adding example words, hashtags\n",
    "    for emotion in EMOTIONS:\n",
    "        dict_emotions[emotion] = {}\n",
    "        dict_emotions[emotion]['Example words'] = []\n",
    "        dict_emotions[emotion]['Hashtags'] = []\n",
    "        for tweet in list_tweet_data:\n",
    "            if tweet['words_by_emotions'][emotion]:\n",
    "                dict_emotions[emotion]['Example words'].extend(tweet['words_by_emotions'][emotion])\n",
    "                [dict_emotions[emotion]['Hashtags'].append('#' + tweet['entities']['hashtags'][i]['text'].lower()) for i in range(len(tweet['entities']['hashtags']))]            \n",
    "   \n",
    "    # adding %age    \n",
    "    for emotion, emotion_dict in dict_emotions.items():\n",
    "        emotion_dict['% Words'] = 0\n",
    "        num_words_for_emotion = reduce(lambda count,x:count+1,emotion_dict['Example words'],0)\n",
    "        emotion_dict['% Words'] = str(round(num_words_for_emotion/total_num_of_words * 100, 2)) + '%'\n",
    "        \n",
    "    # sorting words and hashtags in descending order\n",
    "    for emotion, emotion_dict in dict_emotions.items():\n",
    "        emotion_dict['Example words'] = sort_words_by_frequency(emotion_dict['Example words'])\n",
    "        emotion_dict['Hashtags'] = sort_words_by_frequency(emotion_dict['Hashtags'])\n",
    "    return dict_emotions"
   ]
  },
  {
   "cell_type": "markdown",
   "metadata": {},
   "source": [
    "Once you've analyzed the tweets, you will need to _display_ that information as a printed table (as in the example at the top of the page).\n",
    "\n",
    "Define another function to display this table (your function should take as an argument the data structure returned from your \"analysis\" function).\n",
    "\n",
    "This function will need to print out the table. Using the [string formatting](https://docs.python.org/3/library/string.html#format-examples) language (via the **`.format()`** string method) makes it possible to have equally sized \"columns\" of data. For more example, [this tutorial](https://www.digitalocean.com/community/tutorials/how-to-use-string-formatters-in-python-3) is pretty good (check out the \"Padding Variable Substitutions\" section).\n",
    "\n",
    "\n",
    "A few notes about formatting this output:\n",
    "\n",
    "- For your reference, the example table at the top of the page uses `14` characters for the first column, `11` characters for the second,  `35` for the third, and the \"remainder\" for the fourth. You are not required to match these numbers.\n",
    "\n",
    "- The percentage should be formatted with two decimals of precision (e.g., `1.23%`).\n",
    "\n",
    "- Both the example sentiment words and the hashtags should be outputted as a _comma-separated list_ with spaces between them (and no square brackets). The `join()` string method is good for converting lists to formatted strings. Both lists should also be limited to the 3 most common items.\n",
    "\n",
    "- Make sure to include `#` in front of the hashtags!"
   ]
  },
  {
   "cell_type": "code",
   "execution_count": 9,
   "metadata": {},
   "outputs": [],
   "source": [
    "def show_tabulated_results(dictionary_of_emotions):\n",
    "    '''\n",
    "    takes a dictionary of emotions and displays it in tabular form. Each value of dictionary of emotions represents one row of\n",
    "    the table.\n",
    "    '''\n",
    "    # sorting the dictionary by % words in descending order\n",
    "    sorted_tuple =  sorted( dictionary_of_emotions.items(), key = lambda x: x[1]['% Words'], reverse = True)\n",
    "    \n",
    "    print (\"{:<14} {:<11} {:<35} {:<10}\".format('EMOTION','% WORD','EXAMPLE WORDS', 'HASHTAGS'))\n",
    "    for emotion, dict_values in sorted_tuple:\n",
    "        print (\"{:<14} {:<11} {:<35} {:<10}\".format(emotion, dict_values['% Words'], (', ').join(dict_values['Example words'][:3]), \n",
    "                                                (', ').join(dict_values['Hashtags'][:3])))"
   ]
  },
  {
   "cell_type": "code",
   "execution_count": 10,
   "metadata": {},
   "outputs": [
    {
     "name": "stdout",
     "output_type": "stream",
     "text": [
      "EMOTION        % WORD      EXAMPLE WORDS                       HASHTAGS  \n",
      "positive       6.16%       learn, faculty, happy               #accesstoinfoday, #indigenouspeoplesday, #idealistfair\n",
      "trust          3.08%       school, faculty, happy              #indigenouspeoplesday, #diversity\n",
      "anticipation   2.53%       happy, top, ready                   #indigenouspeoplesday, #informatics, #info340\n",
      "joy            1.76%       happy, peace, deal                  #indigenouspeoplesday, #accesstoinfoday\n",
      "surprise       0.99%       deal, award, surprised              #suzzallolibrary, #nobrainer\n",
      "negative       0.88%       fall, rejection, outstanding                  \n",
      "sadness        0.55%       fall, rejection, problem                      \n",
      "disgust        0.44%       rejection, weird, finally                     \n",
      "fear           0.44%       rejection, surprise, problem                  \n",
      "anger          0.33%       rejection, disaster, involvement    #mlis     \n"
     ]
    }
   ],
   "source": [
    "show_tabulated_results(analyze_tweets(SAMPLE_TWEETS))"
   ]
  },
  {
   "cell_type": "markdown",
   "metadata": {},
   "source": [
    "## Getting Live Data"
   ]
  },
  {
   "cell_type": "markdown",
   "metadata": {},
   "source": [
    "Define _another_ function that takes in a Twitter username as an argument and then returns a list of dictionaries representing the tweets made by that user.\n",
    "\n",
    "Normally you would fetch this data by sending a request directly to the web service's API (e.g., to the the [statuses/user_timeline](https://developer.twitter.com/en/docs/tweets/timelines/api-reference/get-statuses-user_timeline) endpoint provided by the Twitter API at `https://api.twitter.com/1.1/statuses/user_timeline`). However, Twitter includes access controls so that only registered developers are allowed to send requests. While it is possible to register as a developer and access Twitter [directly through Python](https://python-twitter.readthedocs.io/en/latest/), this adds an extra level of complexity to the assignment.\n",
    "\n",
    "Instead, I've set up a [proxy](https://en.wikipedia.org/wiki/Proxy) that has all the access keys specified which you can use to search Twitter. This proxy is available at:\n",
    "\n",
    "**<https://faculty.washington.edu/joelross/proxy/twitter/timeline/>**\n",
    "\n",
    "Send a request to _that_ url instead of `https://api.twitter.com/1.1/statuses/user_timeline`, and it will redirect your request with the proper authentication to Twitter, and then give you back whatever JSON Twitter's API responded with.\n",
    "\n",
    "- You specify the same request parameters as you would when accessing Twitter directly. The request takes a `screen_name` request parameter which you can assign the given username. You can also specify the `count` parameter if you want to get more results back (up to 200); see the [documentation](https://developer.twitter.com/en/docs/tweets/timelines/api-reference/get-statuses-user_timeline) for details and other options you are welcome to use (just document them in your function's **docstring**).\n",
    "\n",
    "- **WARNING:** The proxy I have set up is **rate-limited** so that it can only accept 900 requests every 15 minutes. If all 40 students are working rapidly on the assignment at the same time, you may find yourself needing to wait a few minutes and try again. You are alternatively welcome to set up your own developer account and API keys; just make sure you don't put the keys under version control and upload them to GitHub!\n",
    "\n",
    "You can download the timeline data from Twitter using the [requests](http://docs.python-requests.org/en/master/user/quickstart/) module discussed in class: send a `GET` request to the [statuses/user_timeline](https://developer.twitter.com/en/docs/tweets/timelines/api-reference/get-statuses-user_timeline) endpoint provided by the Twitter API, and then use the `.json()` method to extract the JSON response as a Python _list_ or _dictionary_ value you can work with."
   ]
  },
  {
   "cell_type": "code",
   "execution_count": 11,
   "metadata": {},
   "outputs": [],
   "source": [
    "import requests\n",
    "\n",
    "def download_live_tweets(user_name):\n",
    "    '''\n",
    "    take user_name as input, fire a request to twitter API and return all the downloaded tweets tweeted by the user \n",
    "    '''\n",
    "    base_uri = 'https://faculty.washington.edu/joelross/proxy/twitter/timeline/'\n",
    "    query_params = {'screen_name' : user_name}\n",
    "    response = requests.get(base_uri, params = query_params)\n",
    "    data = response.json()\n",
    "    print(type(data))\n",
    "    return data"
   ]
  },
  {
   "cell_type": "markdown",
   "metadata": {},
   "source": [
    "Define one last \"main\" function that will [prompt the user](https://docs.python.org/3/library/functions.html#input) for a Twitter username. The function should then call your \"download\" function to fetch the tweets, and pass the returned tweet data into your \"analyze\" and \"show\" functions in order to display your sentiment analysis of the user's timeline. \n",
    "\n",
    "**ADDITIONALLY**, `if` the user specifies `SAMPLE` (all caps) as the username, the function should instead show the analysis for the `SAMPLE_TWEETS` (this will help us out with grading)."
   ]
  },
  {
   "cell_type": "code",
   "execution_count": 12,
   "metadata": {},
   "outputs": [],
   "source": [
    "def main_func():\n",
    "    '''\n",
    "    \"main\" function that prompts the user for username, extracts all the tweets made by the user and displays the emotions and \n",
    "    required data for the tweets\n",
    "    '''\n",
    "    username = input('Please enter the username for whom you want to download the tweets: ')\n",
    "    if username=='SAMPLE':\n",
    "        show_tabulated_results(analyze_tweets(SAMPLE_TWEETS))\n",
    "    else:\n",
    "        downloaded_tweets = download_live_tweets(username)\n",
    "        show_tabulated_results(analyze_tweets(downloaded_tweets))"
   ]
  },
  {
   "cell_type": "markdown",
   "metadata": {},
   "source": [
    "Use your main function to try analyzing the timelines of different users and comparing their results. Are the current sentiments of the [iSchool](https://twitter.com/uw_ischool) and [CSE](https://twitter.com/uwcse) different in interesting ways?"
   ]
  },
  {
   "cell_type": "code",
   "execution_count": 13,
   "metadata": {},
   "outputs": [
    {
     "name": "stdout",
     "output_type": "stream",
     "text": [
      "Please enter the username for whom you want to download the tweets: SAMPLE\n",
      "EMOTION        % WORD      EXAMPLE WORDS                       HASHTAGS  \n",
      "positive       6.16%       learn, faculty, happy               #accesstoinfoday, #indigenouspeoplesday, #idealistfair\n",
      "trust          3.08%       school, faculty, happy              #indigenouspeoplesday, #diversity\n",
      "anticipation   2.53%       happy, top, ready                   #indigenouspeoplesday, #informatics, #info340\n",
      "joy            1.76%       happy, peace, deal                  #indigenouspeoplesday, #accesstoinfoday\n",
      "surprise       0.99%       deal, award, surprised              #suzzallolibrary, #nobrainer\n",
      "negative       0.88%       fall, rejection, outstanding                  \n",
      "sadness        0.55%       fall, rejection, problem                      \n",
      "disgust        0.44%       rejection, weird, finally                     \n",
      "fear           0.44%       rejection, surprise, problem                  \n",
      "anger          0.33%       rejection, disaster, involvement    #mlis     \n"
     ]
    }
   ],
   "source": [
    "main_func()"
   ]
  },
  {
   "cell_type": "code",
   "execution_count": 15,
   "metadata": {},
   "outputs": [
    {
     "name": "stdout",
     "output_type": "stream",
     "text": [
      "Please enter the username for whom you want to download the tweets: uwcse\n",
      "<class 'list'>\n",
      "EMOTION        % WORD      EXAMPLE WORDS                       HASHTAGS  \n",
      "positive       4.85%       technology, favorite, cool          #uwallen, #augmentedreality, #chi2018\n",
      "trust          2.91%       team, favorite, professor           #uwallen, #dnaday, #robots\n",
      "anticipation   1.94%       watch, board, award                 #uwallen, #nsffunded, #memoriesindna\n",
      "joy            1.7%        favorite, friend, teach             #uwallen, #dnaday, #robots\n",
      "surprise       0.73%       wild, teach, award                  #uwallen, #chi2018, #hci\n",
      "negative       0.49%       weird, wild                         #augmentedreality, #chi2018, #hci\n",
      "fear           0.49%       watch                               #uwallen, #nsffunded\n",
      "disgust        0.24%       weird                               #augmentedreality\n",
      "anger          0.0%                                                      \n",
      "sadness        0.0%                                                      \n"
     ]
    }
   ],
   "source": [
    "main_func()"
   ]
  },
  {
   "cell_type": "code",
   "execution_count": 15,
   "metadata": {},
   "outputs": [
    {
     "name": "stdout",
     "output_type": "stream",
     "text": [
      "Please enter the username for whom you want to download the tweets: uwcse\n",
      "EMOTION        % WORD      EXAMPLE WORDS                       HASHTAGS  \n",
      "positive       5.68%       technology, professor, favorite     #uwallen, #augmentedreality, #chi2018\n",
      "trust          3.7%        team, professor, favorite           #uwallen, #dnaday, #robots\n",
      "anticipation   1.98%       watch, board, award                 #uwallen, #nsffunded, #memoriesindna\n",
      "joy            1.98%       favorite, friend, teach             #uwallen, #dnaday, #robots\n",
      "surprise       0.99%       wild, teach, award                  #uwallen, #chi2018, #hci\n",
      "negative       0.49%       weird, wild                         #augmentedreality, #chi2018, #hci\n",
      "disgust        0.25%       weird                               #augmentedreality\n",
      "fear           0.25%       watch                               #nsffunded\n",
      "anger          0.0%                                                      \n",
      "sadness        0.0%                                                      \n"
     ]
    }
   ],
   "source": [
    "main_func()"
   ]
  },
  {
   "cell_type": "markdown",
   "metadata": {},
   "source": [
    "The tweets in UW Ischool are more related to violence and discrimination and they talk less about school or library. Whereas the tweets of CSE department talk more about academics such as technology, professors and favorites. There are no tweets associated with anger or sadness"
   ]
  },
  {
   "cell_type": "code",
   "execution_count": null,
   "metadata": {
    "collapsed": true
   },
   "outputs": [],
   "source": []
  }
 ],
 "metadata": {
  "kernelspec": {
   "display_name": "Python 3",
   "language": "python",
   "name": "python3"
  },
  "language_info": {
   "codemirror_mode": {
    "name": "ipython",
    "version": 3
   },
   "file_extension": ".py",
   "mimetype": "text/x-python",
   "name": "python",
   "nbconvert_exporter": "python",
   "pygments_lexer": "ipython3",
   "version": "3.6.4"
  },
  "toc": {
   "colors": {
    "hover_highlight": "#DAA520",
    "running_highlight": "#FF0000",
    "selected_highlight": "#FFD700"
   },
   "moveMenuLeft": true,
   "nav_menu": {
    "height": "84px",
    "width": "252px"
   },
   "navigate_menu": true,
   "number_sections": true,
   "sideBar": true,
   "threshold": 4,
   "toc_cell": false,
   "toc_section_display": "block",
   "toc_window_display": false,
   "widenNotebook": false
  }
 },
 "nbformat": 4,
 "nbformat_minor": 2
}
