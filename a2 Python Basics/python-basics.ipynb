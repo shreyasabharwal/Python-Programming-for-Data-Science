{
 "cells": [
  {
   "cell_type": "markdown",
   "metadata": {},
   "source": [
    "# a2 - Python Basics\n",
    "Fill in the below code cells as specified. Note that cells may utilize variables and functions defined in previous cells; we should be able to use the `Kernal > Restart & Clear All` menu item followed by `Cell > Run All` to execute your entire notebook and see the correct output."
   ]
  },
  {
   "cell_type": "markdown",
   "metadata": {},
   "source": [
    "## Part 1. Introductions"
   ]
  },
  {
   "cell_type": "markdown",
   "metadata": {},
   "source": [
    "Create a variable **`my_name`** that stores your name (a string)."
   ]
  },
  {
   "cell_type": "code",
   "execution_count": 1,
   "metadata": {
    "collapsed": true
   },
   "outputs": [],
   "source": [
    "my_name = \"Shreya\""
   ]
  },
  {
   "cell_type": "markdown",
   "metadata": {},
   "source": [
    "Create a variable **`my_age`** that stores your age (a number)."
   ]
  },
  {
   "cell_type": "code",
   "execution_count": 2,
   "metadata": {
    "collapsed": true
   },
   "outputs": [],
   "source": [
    "my_age = 27"
   ]
  },
  {
   "cell_type": "markdown",
   "metadata": {},
   "source": [
    "Define a function **`make_introduction()`** that takes in two arguments: a name and an age. The function should _return_ a string of the format `\"Hello, my name is {NAME} and I'm {AGE} years old.\"` (replacing `{NAME}` and `{AGE}` with the arguments).\n",
    "- Note that you can turn a number into a string using the built-in `str()` function. "
   ]
  },
  {
   "cell_type": "code",
   "execution_count": 3,
   "metadata": {
    "collapsed": true
   },
   "outputs": [],
   "source": [
    "def make_introduction(name, age):\n",
    "    \"\"\"returns a string of the format - 'Hello, my name is {name} and I'm {age} years old where name and age are passed as \n",
    "    arguments\"\"\"\n",
    "    custom_str = \"Hello, my name is \"+ name + \" and I'm \" + str(age) + \" years old\"\n",
    "    return custom_str"
   ]
  },
  {
   "cell_type": "markdown",
   "metadata": {},
   "source": [
    "Create a variable **`my_intro`** by passing your variables `my_name` and `my_age` into your `make_introduction()` function. Print the variable after you create it."
   ]
  },
  {
   "cell_type": "code",
   "execution_count": 4,
   "metadata": {},
   "outputs": [
    {
     "name": "stdout",
     "output_type": "stream",
     "text": [
      "Hello, my name is Shreya and I'm 27 years old\n"
     ]
    }
   ],
   "source": [
    "my_intro = make_introduction(my_name, my_age)\n",
    "print (my_intro)"
   ]
  },
  {
   "cell_type": "markdown",
   "metadata": {},
   "source": [
    "Create a variable **`loud_intro`**, which is your `my_intro` variable with all of the letters capitalized (use the `upper()` string method). Print the variable after you create it."
   ]
  },
  {
   "cell_type": "code",
   "execution_count": 5,
   "metadata": {},
   "outputs": [
    {
     "name": "stdout",
     "output_type": "stream",
     "text": [
      "HELLO, MY NAME IS SHREYA AND I'M 27 YEARS OLD\n"
     ]
    }
   ],
   "source": [
    "# convert the string to upper case\n",
    "loud_intro = my_intro.upper()\n",
    "print(loud_intro)"
   ]
  },
  {
   "cell_type": "markdown",
   "metadata": {},
   "source": [
    "Create a variable **`casual_intro`** by using the `replace()` string function to replace (substitute) \"Hello, my name is\", with \"Hey, I'm\" in your `my_intro` variable. You may need to look up the arguments for this function! Print the variable after you create it."
   ]
  },
  {
   "cell_type": "code",
   "execution_count": 6,
   "metadata": {},
   "outputs": [
    {
     "name": "stdout",
     "output_type": "stream",
     "text": [
      "Hey, I'm Shreya and I'm 27 years old\n"
     ]
    }
   ],
   "source": [
    "# create a casual intro \n",
    "casual_intro = my_intro.replace(\"Hello, my name is\",\"Hey, I'm\")\n",
    "print(casual_intro)"
   ]
  },
  {
   "cell_type": "markdown",
   "metadata": {},
   "source": [
    "Create a variable `intro_e_count` that stores the number of times the letter `'e'` (lower-case only) appears in the `my_intro` variable. Find a [string method](https://docs.python.org/3.6/library/stdtypes.html#string-methods) that will \"count\" the occurences. Print the variable after you create it."
   ]
  },
  {
   "cell_type": "code",
   "execution_count": 7,
   "metadata": {},
   "outputs": [
    {
     "name": "stdout",
     "output_type": "stream",
     "text": [
      "4\n"
     ]
    }
   ],
   "source": [
    "# count number of occurences of 'e' in the string\n",
    "intro_e_count = my_intro.count('e')\n",
    "print(intro_e_count)"
   ]
  },
  {
   "cell_type": "markdown",
   "metadata": {},
   "source": [
    "## Part 2. Money"
   ]
  },
  {
   "cell_type": "markdown",
   "metadata": {},
   "source": [
    "Define a function **`compound_interest()`** that takes three arguments: an initial bank balance (principle, in dollars), an annual interest rate, and a number of years. The function should calculate the [continuous compound interest](https://en.wikipedia.org/wiki/Compound_interest#Continuous_compounding) and _return_ the resulting total balance after that many number of years.\n",
    "- See [here](http://www.mathwarehouse.com/calculators/continuous-compound-interest-calculator.php) for an example of the formula and a calculator you can use to check your work.\n",
    "- Be sure and call your function with some testing numbers: \\$1000 at 6% for 5 years should lead to a balance of \\$1349.86.\n",
    "- You will need to import the `math` module for mathematical functions."
   ]
  },
  {
   "cell_type": "code",
   "execution_count": 8,
   "metadata": {
    "collapsed": true
   },
   "outputs": [],
   "source": [
    "import math\n",
    "def compound_interest(principle, interest_rate, years):\n",
    "    \"\"\"calculates continuous compound interest using parameters principle in dollars, rate of interest and number of years\n",
    "    and returns the total balance\"\"\"\n",
    "    # calculate total balance using formula A=Pexp(rt)\n",
    "    total_bal = principle * math.exp(interest_rate*years/100)\n",
    "    return round(total_bal, 2)"
   ]
  },
  {
   "cell_type": "code",
   "execution_count": 9,
   "metadata": {},
   "outputs": [
    {
     "data": {
      "text/plain": [
       "1349.86"
      ]
     },
     "execution_count": 9,
     "metadata": {},
     "output_type": "execute_result"
    }
   ],
   "source": [
    "compound_interest(1000, 6, 5)"
   ]
  },
  {
   "cell_type": "markdown",
   "metadata": {},
   "source": [
    "Define a function **`print_earnings()`** that takes three numbers as arguments: an initial principle, an annual interest rate, and a number of years. This function should _print out_ the earnings over this period in the following format:\n",
    "\n",
    "```\n",
    "Initial principle: $1000\n",
    "Annual interest rate: %6.0\n",
    "Interest earned in 5 years: $349.86\n",
    "Total value after 5 years: $1349.86\n",
    "```\n",
    "\n",
    "Note that interest rate should be printed as a percentage, monetary values should have a leading `$`, and you should round monetary values to the nearest penny. Don't worry about extra or missing trailing 0s (in values like `%6.0` or `$101.5`)."
   ]
  },
  {
   "cell_type": "code",
   "execution_count": 10,
   "metadata": {},
   "outputs": [
    {
     "name": "stdout",
     "output_type": "stream",
     "text": [
      "Initial principle: $1000\n",
      "Annual interest rate: %6\n",
      "Interest earned in 5 years: $349.86\n",
      "Total value after 5 years: $1349.86\n"
     ]
    }
   ],
   "source": [
    "def print_earnings(principle, rate, years):\n",
    "    \"\"\"calculates the continuous compund interest and total amount after 5 years and prints the values\"\"\"\n",
    "    total_value = compound_interest(principle, rate, years)\n",
    "    print(\"Initial principle:\", \"$\"+str(principle))\n",
    "    print(\"Annual interest rate:\",\"%\"+str(rate))\n",
    "    print(\"Interest earned in 5 years:\",\"$\"+str(round(total_value-principle,2)))\n",
    "    print(\"Total value after 5 years:\",\"$\"+str(round(total_value,2)))\n",
    "    \n",
    "print_earnings(1000,6,5)"
   ]
  },
  {
   "cell_type": "markdown",
   "metadata": {},
   "source": [
    "Define a function **`value_of_change()`** that takes in **named** arguments representing amounts of different US coins (`quarters`, `dimes`, `nickels`, and `pennies`)--each of the arguments should have a default value of `0`. The function should _return_ the total value in dollars of those coins. For example, 5 quarters, 4 dimes, 3, nickels, and 2 pennies have a value of `1.82` dollars."
   ]
  },
  {
   "cell_type": "code",
   "execution_count": 11,
   "metadata": {},
   "outputs": [
    {
     "name": "stdout",
     "output_type": "stream",
     "text": [
      "1.82\n"
     ]
    }
   ],
   "source": [
    "def value_of_change(quarters = 0, dimes = 0, nickels = 0, pennies = 0):\n",
    "    \"calculates equivalent dollar value and returns the value rounded to 2 decimal places\"\n",
    "    # calculate total number of cents and then divide the result by 100\n",
    "    total = (quarters*25 + dimes*10 + nickels*5 + pennies)/100\n",
    "    return round(total, 2)\n",
    "\n",
    "print(value_of_change(5,4,3,2))"
   ]
  },
  {
   "cell_type": "markdown",
   "metadata": {},
   "source": [
    "Define a function **`consolidate_change`** that takes as arguments counts of different US coins (similar to the previous function) and prints out the _simplest_ number of bills and coins needed to make that amount.\n",
    "\n",
    "For example, when called with arguments of 10 quarters, 9 dimes, 8 nickels, and 7 pennies, the function should print:\n",
    "\n",
    "```\n",
    "Number of dollars: 3\n",
    "Number of quarters: 3\n",
    "Number of dimes: 1\n",
    "Number of nickels: 0\n",
    "Number of pennies: 2\n",
    "Total amount: $3.87\n",
    "```\n",
    "\n",
    "You _must_ use your previous `value_of_change()` method in this calculation. _Hint:_ think about converting the coins to a giant pile of pennies, and then determining how many (whole number) dollars you can divide them into. Then put those pennies aside, and determine how many (whole number) quarters you can make with the rest, etc."
   ]
  },
  {
   "cell_type": "code",
   "execution_count": 12,
   "metadata": {
    "scrolled": true
   },
   "outputs": [
    {
     "name": "stdout",
     "output_type": "stream",
     "text": [
      "Number of dollars: 3\n",
      "Number of quarters: 3\n",
      "Number of dimes: 1\n",
      "Number of nickels: 0\n",
      "Number of pennies: 2\n",
      "Total Amount: $3.87\n"
     ]
    }
   ],
   "source": [
    "def consolidate_change(quarters = 0, dimes = 0, nickels = 0, pennies = 0):\n",
    "    \"\"\"calculates the simplest number of bills and coins that make the amount and prints number of dollars, quarters, dimes,\n",
    "     nickels, pennies that constitute the total amount\"\"\"\n",
    "    dollar_equi = value_of_change(quarters, dimes, nickels, pennies)\n",
    "    print (\"Number of dollars:\", math.floor(dollar_equi))\n",
    "    # calculate pennies left after exclusing the number of dollars\n",
    "    pennies_left = round((dollar_equi - math.floor(dollar_equi)) *100)\n",
    "    num_quarters = pennies_left // 25\n",
    "    print (\"Number of quarters:\", num_quarters)\n",
    "    # calculate pennies left after exclusing the number of quarters\n",
    "    pennies_left = round(pennies_left - num_quarters*25)\n",
    "    num_dimes = pennies_left//10\n",
    "    print (\"Number of dimes:\", num_dimes)\n",
    "    # calculate pennies left after exclusing the number of dimes\n",
    "    pennies_left = round(pennies_left - num_dimes*10)\n",
    "    num_nickels = pennies_left//5\n",
    "    print (\"Number of nickels:\", num_nickels)\n",
    "    # calculate pennies left after exclusing the number of nickels\n",
    "    pennies_left = round(pennies_left - num_nickels*5)\n",
    "    print (\"Number of pennies:\", round(pennies_left))\n",
    "    print(\"Total Amount:\", \"$\" + str(dollar_equi))\n",
    "    \n",
    "consolidate_change(10,9,8,7)"
   ]
  },
  {
   "cell_type": "markdown",
   "metadata": {},
   "source": [
    "## Part 3. Time"
   ]
  },
  {
   "cell_type": "markdown",
   "metadata": {},
   "source": [
    "Use the [date()](https://docs.python.org/3/library/datetime.html#datetime.date) function from the `datetime` module to create a variable **`summer_break`** that represents the first day of Summer break (June 9, 2018). Note that this function will return a value of type `date`."
   ]
  },
  {
   "cell_type": "code",
   "execution_count": 13,
   "metadata": {},
   "outputs": [
    {
     "name": "stdout",
     "output_type": "stream",
     "text": [
      "2018-06-09\n"
     ]
    }
   ],
   "source": [
    "from datetime import date\n",
    "summer_break = date(2018, 6, 9)\n",
    "print(summer_break)"
   ]
  },
  {
   "cell_type": "markdown",
   "metadata": {},
   "source": [
    "Create a variable **`days_to_break`** that is how many days from the _current date_ (today--look for a method of the [date class](https://docs.python.org/3/library/datetime.html#date-objects)) to Summer break. _Hint:_ variables of the `date` type support the subtraction operator! Print the variable after you create it; it's fine if the printed result includes a `00:00:00` timestamp."
   ]
  },
  {
   "cell_type": "code",
   "execution_count": 14,
   "metadata": {},
   "outputs": [
    {
     "name": "stdout",
     "output_type": "stream",
     "text": [
      "64 days, 0:00:00\n"
     ]
    }
   ],
   "source": [
    "days_to_break = summer_break - date.today()\n",
    "print(days_to_break)"
   ]
  },
  {
   "cell_type": "markdown",
   "metadata": {},
   "source": [
    "Define a function **`can_drink_us()`** that takes as an argument a birth date (as a `date` value). This function should _return_ the `date` in which a person born on that day can legally purchase alcohol in the US (i.e., when they turn 21 years old).\n",
    "\n",
    "In order to calculate this date, you should use the [dateutil.relativedelta](https://dateutil.readthedocs.io/en/stable/relativedelta.html) library, which is included with Anaconda. You will need to import the `relativedelta` function from this library, which will let you specify a \"time change\" in terms of years that can then be added to a date. See [the examples](https://dateutil.readthedocs.io/en/stable/examples.html#relativedelta-examples) for details.\n",
    "\n",
    "Demonstrate your function works by printing out when someone born _today_ will be able to legally drink."
   ]
  },
  {
   "cell_type": "code",
   "execution_count": 15,
   "metadata": {},
   "outputs": [
    {
     "name": "stdout",
     "output_type": "stream",
     "text": [
      "Someone born today will be able to legally drink on 2039-04-06\n"
     ]
    }
   ],
   "source": [
    "from dateutil.relativedelta import relativedelta\n",
    "def can_drink_us(birth_date):\n",
    "    \"calculate the date the person will be able to legally drink and return the date value\"\n",
    "    legal_drinking_date = birth_date + relativedelta(years=+21)\n",
    "    return (legal_drinking_date)\n",
    "    \n",
    "eligible_date = can_drink_us(date.today())\n",
    "print(\"Someone born today will be able to legally drink on\", eligible_date)"
   ]
  },
  {
   "cell_type": "markdown",
   "metadata": {},
   "source": [
    "Define a function **`make_birthday_intro()`** that takes in two arguments: a name (`string`), and a birth date (`date`). This function should _return_ a string of the format `\"Hello, my name is {NAME} and I'm {AGE} years old. In {N} days I'll be {NEW_AGE}\"` (replacing `{NAME}`, `{AGE}`, `{N}`, and `{NEW_AGE}` with appropriate values).\n",
    "\n",
    "- You should utilize your **`make_introduction()`** function from Part 1! You may need to calculate a variable to pass into that function call.\n",
    "- _Hint_: use the `relativedelta()` function to calculate the person's current age, as well as when they will turn 1 year older. You can get the number of days or years from a `relativedelta` value (e.g., `time_difference`) by accessing the `.days` or `.years` properties (e.g., `time_difference.years`)."
   ]
  },
  {
   "cell_type": "code",
   "execution_count": 16,
   "metadata": {
    "collapsed": true
   },
   "outputs": [],
   "source": [
    "def make_birthday_intro (name, birth_date):\n",
    "    \"calculate the age and number of days away from the birthday and return a string printing these values\"\n",
    "    time_diff = relativedelta(date.today(), birth_date)\n",
    "    intro = make_introduction(name, time_diff.years)\n",
    "    # add age+1 to the birth_date to calculate upcoming birthday and subtract today's date\n",
    "    num_days = birth_date + relativedelta(years=+time_diff.years+1) - date.today()\n",
    "    new_age = time_diff.years + 1\n",
    "    intro = intro + \". In \" +str(num_days.days) + \" days, I'll be \"+str(new_age)\n",
    "    return intro"
   ]
  },
  {
   "cell_type": "markdown",
   "metadata": {},
   "source": [
    "Create a variable **`my_bday_intro`** by calling your `make_birthday_intro()` function and passing in your name (already a variable!) and your birthdate. Print the variable after you create it. "
   ]
  },
  {
   "cell_type": "code",
   "execution_count": 17,
   "metadata": {},
   "outputs": [
    {
     "name": "stdout",
     "output_type": "stream",
     "text": [
      "Hello, my name is Shreya and I'm 27 years old. In 312 days, I'll be 28\n"
     ]
    }
   ],
   "source": [
    "my_bday_intro = make_birthday_intro(my_name, date(1991,2,12))\n",
    "print(my_bday_intro)"
   ]
  },
  {
   "cell_type": "code",
   "execution_count": null,
   "metadata": {
    "collapsed": true
   },
   "outputs": [],
   "source": []
  }
 ],
 "metadata": {
  "kernelspec": {
   "display_name": "Python 3",
   "language": "python",
   "name": "python3"
  },
  "language_info": {
   "codemirror_mode": {
    "name": "ipython",
    "version": 3
   },
   "file_extension": ".py",
   "mimetype": "text/x-python",
   "name": "python",
   "nbconvert_exporter": "python",
   "pygments_lexer": "ipython3",
   "version": "3.6.3"
  }
 },
 "nbformat": 4,
 "nbformat_minor": 2
}
